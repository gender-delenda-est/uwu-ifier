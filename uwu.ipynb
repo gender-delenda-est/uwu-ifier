{
 "cells": [
  {
   "cell_type": "markdown",
   "metadata": {},
   "source": [
    "# OwO what's this\n",
    "makes input text into uwu-speak\n",
    "based on https://github.com/sorayori/Re-ZerOwO/"
   ]
  },
  {
   "cell_type": "code",
   "execution_count": null,
   "metadata": {},
   "outputs": [],
   "source": [
    "import random\n",
    "\n",
    "prefixes = [\"OwO What's this? \", \" OwO \", \"H-hewwo?? \", \"Huohhhh. \", \"Haiiii! \", \"UwU \", \"OWO \", \"HIIII! \", \"<3 \"]\n",
    "\n",
    "suffixes = [\" :3\", \" UwU \", \" ʕʘ‿ʘʔ\", \" >_>\", \" ^_^\", \"..\", \" Huoh.\", \" ^-^\", \" ;_;\", \" ;-;\", \" xD\", \" x3\", \" :D\", \" :P\", \" ;3\", \" XDDD\", \", fwendo \", \" ㅇㅅㅇ\", \" (人◕ω◕)\", \" （＾ｖ＾）\"]\n",
    "\n",
    "replacements = {\n",
    "        \"r\": \"w\",\n",
    "        \"l\": \"w\",\n",
    "        \"R\": \"W\",\n",
    "        \"no\": \"nu\",\n",
    "        \"has\": \"haz\",\n",
    "        \"have\": \"haz\",\n",
    "        \"you\": \"uu\",\n",
    "    }\n",
    "\n",
    "def uwu(string):\n",
    "    \n",
    "    output = \"\"\n",
    "    \n",
    "    for key in replacements:\n",
    "        string = string.replace(key, replacements[key])\n",
    "    \n",
    "    sentences = string.split(\".\")\n",
    "    \n",
    "    for sentence in sentences:\n",
    "        coin_1 = random.randrange(0, 2)\n",
    "        if coin_1 == 1:\n",
    "            sentence = random.choice(prefixes) + sentence\n",
    "\n",
    "            \n",
    "        coin_2 = random.randrange(0, 2)\n",
    "        if coin_2 == 1:\n",
    "            sentence = sentence + random.choice(suffixes)\n",
    "        \n",
    "        else:\n",
    "            sentence += \".\"\n",
    "        \n",
    "        output += sentence\n",
    "    \n",
    "    print(output)\n",
    "\n",
    "    \n",
    "uwu('''''')"
   ]
  },
  {
   "cell_type": "code",
   "execution_count": null,
   "metadata": {},
   "outputs": [],
   "source": []
  }
 ],
 "metadata": {
  "kernelspec": {
   "display_name": "Python 3",
   "language": "python",
   "name": "python3"
  },
  "language_info": {
   "codemirror_mode": {
    "name": "ipython",
    "version": 3
   },
   "file_extension": ".py",
   "mimetype": "text/x-python",
   "name": "python",
   "nbconvert_exporter": "python",
   "pygments_lexer": "ipython3",
   "version": "3.7.3"
  }
 },
 "nbformat": 4,
 "nbformat_minor": 4
}
